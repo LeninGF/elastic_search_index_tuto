{
 "cells": [
  {
   "cell_type": "markdown",
   "metadata": {
    "slideshow": {
     "slide_type": "slide"
    }
   },
   "source": [
    "## Elastic Search\n",
    "* Instalación y Habilitación\n",
    "* Conceptos Base\n",
    "* Indexación\n",
    "* Monitoreo"
   ]
  },
  {
   "cell_type": "markdown",
   "metadata": {
    "slideshow": {
     "slide_type": "subslide"
    }
   },
   "source": [
    "### Instalación\n",
    "\n",
    "En sistemas Unix se procede a ejecutar los siguientes comandos:"
   ]
  },
  {
   "cell_type": "code",
   "execution_count": 1,
   "metadata": {
    "slideshow": {
     "slide_type": "fragment"
    }
   },
   "outputs": [
    {
     "name": "stdout",
     "output_type": "stream",
     "text": [
      "--2020-01-09 11:36:53--  https://artifacts.elastic.co/downloads/elasticsearch/elasticsearch-7.5.1-amd64.deb\n",
      "Resolving artifacts.elastic.co (artifacts.elastic.co)... 2a04:4e42:1::734, 151.101.6.222\n",
      "Connecting to artifacts.elastic.co (artifacts.elastic.co)|2a04:4e42:1::734|:443... failed: Connection timed out.\n",
      "Connecting to artifacts.elastic.co (artifacts.elastic.co)|151.101.6.222|:443... connected.\n",
      "HTTP request sent, awaiting response... 200 OK\n",
      "Length: 290187264 (277M) [application/octet-stream]\n",
      "Saving to: ‘elasticsearch-7.5.1-amd64.deb’\n",
      "\n",
      "elasticsearch-7.5.1 100%[===================>] 276.74M  1.34MB/s    in 4m 27s  \n",
      "\n",
      "2020-01-09 11:43:30 (1.04 MB/s) - ‘elasticsearch-7.5.1-amd64.deb’ saved [290187264/290187264]\n",
      "\n"
     ]
    }
   ],
   "source": [
    "!wget https://artifacts.elastic.co/downloads/elasticsearch/elasticsearch-7.5.1-amd64.deb"
   ]
  },
  {
   "cell_type": "code",
   "execution_count": null,
   "metadata": {
    "slideshow": {
     "slide_type": "fragment"
    }
   },
   "outputs": [],
   "source": [
    "!sudo dpkg -i elasticsearch-7.5.1-amd64.deb"
   ]
  },
  {
   "cell_type": "markdown",
   "metadata": {
    "slideshow": {
     "slide_type": "subslide"
    }
   },
   "source": [
    "### Habilitación del servicio\n",
    "\n",
    "El servicio puede iniciarse con el comando:"
   ]
  },
  {
   "cell_type": "code",
   "execution_count": 4,
   "metadata": {
    "slideshow": {
     "slide_type": "fragment"
    }
   },
   "outputs": [],
   "source": [
    "!systemctl start elasticsearch.service"
   ]
  },
  {
   "cell_type": "markdown",
   "metadata": {
    "slideshow": {
     "slide_type": "fragment"
    }
   },
   "source": [
    "Verificando que el servicio este activo"
   ]
  },
  {
   "cell_type": "code",
   "execution_count": 5,
   "metadata": {
    "slideshow": {
     "slide_type": "fragment"
    }
   },
   "outputs": [
    {
     "name": "stdout",
     "output_type": "stream",
     "text": [
      "{\r\n",
      "  \"name\" : \"lasinac\",\r\n",
      "  \"cluster_name\" : \"elasticsearch\",\r\n",
      "  \"cluster_uuid\" : \"f_n46eaUSW2x1p-135n1iw\",\r\n",
      "  \"version\" : {\r\n",
      "    \"number\" : \"7.5.1\",\r\n",
      "    \"build_flavor\" : \"default\",\r\n",
      "    \"build_type\" : \"deb\",\r\n",
      "    \"build_hash\" : \"3ae9ac9a93c95bd0cdc054951cf95d88e1e18d96\",\r\n",
      "    \"build_date\" : \"2019-12-16T22:57:37.835892Z\",\r\n",
      "    \"build_snapshot\" : false,\r\n",
      "    \"lucene_version\" : \"8.3.0\",\r\n",
      "    \"minimum_wire_compatibility_version\" : \"6.8.0\",\r\n",
      "    \"minimum_index_compatibility_version\" : \"6.0.0-beta1\"\r\n",
      "  },\r\n",
      "  \"tagline\" : \"You Know, for Search\"\r\n",
      "}\r\n"
     ]
    }
   ],
   "source": [
    "!curl -X GET \"localhost:9200/\""
   ]
  },
  {
   "cell_type": "markdown",
   "metadata": {
    "slideshow": {
     "slide_type": "subslide"
    }
   },
   "source": [
    "### Configurando Elasticsearch\n",
    "\n",
    "* Elasticsearch data se guarda en: /var/lib/elasticsearch \n",
    "* Archivo de configuraciòn en: /etc/elasticsearch \n",
    "* Opciones adicionales de inicio de java configurables desde archivo: /etc/default/elasticsearch file."
   ]
  },
  {
   "cell_type": "markdown",
   "metadata": {
    "slideshow": {
     "slide_type": "slide"
    }
   },
   "source": [
    "## Conceptos Básicos"
   ]
  },
  {
   "cell_type": "markdown",
   "metadata": {
    "slideshow": {
     "slide_type": "fragment"
    }
   },
   "source": [
    "* __Documento:__ Unidad básica de informacón indexable, recuperable.\n",
    "* __Índice:__ Conjunto de documentos con características similares.\n",
    "* __Nodo:__ Instancia de Elastic Search; Almacena todos los documentos.\n",
    "* __Cluster:__ Conjunto de uno o más nodos. Pueden existir diferentes índices dentro de un clúster.\n",
    "* __Shard:__ Fragmento de un índice que contiene parte de los documentos.\n",
    "* __Réplica:__ Copia de un shard primario"
   ]
  }
 ],
 "metadata": {
  "celltoolbar": "Slideshow",
  "kernelspec": {
   "display_name": "Python 3",
   "language": "python",
   "name": "python3"
  },
  "language_info": {
   "codemirror_mode": {
    "name": "ipython",
    "version": 3
   },
   "file_extension": ".py",
   "mimetype": "text/x-python",
   "name": "python",
   "nbconvert_exporter": "python",
   "pygments_lexer": "ipython3",
   "version": "3.6.4"
  }
 },
 "nbformat": 4,
 "nbformat_minor": 2
}
