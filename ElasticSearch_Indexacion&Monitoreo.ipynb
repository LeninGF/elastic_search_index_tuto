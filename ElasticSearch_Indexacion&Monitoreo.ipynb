{
 "cells": [
  {
   "cell_type": "markdown",
   "metadata": {
    "slideshow": {
     "slide_type": "slide"
    }
   },
   "source": [
    "## Elastic Search\n",
    "* Instalación y Habilitación\n",
    "* Conceptos Base\n",
    "* Indexación\n",
    "* Monitoreo"
   ]
  },
  {
   "cell_type": "markdown",
   "metadata": {
    "slideshow": {
     "slide_type": "subslide"
    }
   },
   "source": [
    "### Instalación\n",
    "\n",
    "En sistemas Unix se procede a ejecutar los siguientes comandos:"
   ]
  },
  {
   "cell_type": "code",
   "execution_count": 1,
   "metadata": {
    "slideshow": {
     "slide_type": "fragment"
    }
   },
   "outputs": [
    {
     "name": "stdout",
     "output_type": "stream",
     "text": [
      "--2020-01-09 11:36:53--  https://artifacts.elastic.co/downloads/elasticsearch/elasticsearch-7.5.1-amd64.deb\n",
      "Resolving artifacts.elastic.co (artifacts.elastic.co)... 2a04:4e42:1::734, 151.101.6.222\n",
      "Connecting to artifacts.elastic.co (artifacts.elastic.co)|2a04:4e42:1::734|:443... failed: Connection timed out.\n",
      "Connecting to artifacts.elastic.co (artifacts.elastic.co)|151.101.6.222|:443... connected.\n",
      "HTTP request sent, awaiting response... 200 OK\n",
      "Length: 290187264 (277M) [application/octet-stream]\n",
      "Saving to: ‘elasticsearch-7.5.1-amd64.deb’\n",
      "\n",
      "elasticsearch-7.5.1 100%[===================>] 276.74M  1.34MB/s    in 4m 27s  \n",
      "\n",
      "2020-01-09 11:43:30 (1.04 MB/s) - ‘elasticsearch-7.5.1-amd64.deb’ saved [290187264/290187264]\n",
      "\n"
     ]
    }
   ],
   "source": [
    "!wget https://artifacts.elastic.co/downloads/elasticsearch/elasticsearch-7.5.1-amd64.deb"
   ]
  },
  {
   "cell_type": "code",
   "execution_count": null,
   "metadata": {
    "slideshow": {
     "slide_type": "fragment"
    }
   },
   "outputs": [],
   "source": [
    "!sudo dpkg -i elasticsearch-7.5.1-amd64.deb"
   ]
  },
  {
   "cell_type": "markdown",
   "metadata": {
    "slideshow": {
     "slide_type": "subslide"
    }
   },
   "source": [
    "### Habilitación del servicio\n",
    "\n",
    "El servicio puede iniciarse con el comando:"
   ]
  },
  {
   "cell_type": "code",
   "execution_count": 4,
   "metadata": {
    "slideshow": {
     "slide_type": "fragment"
    }
   },
   "outputs": [],
   "source": [
    "!systemctl start elasticsearch.service"
   ]
  },
  {
   "cell_type": "markdown",
   "metadata": {
    "slideshow": {
     "slide_type": "fragment"
    }
   },
   "source": [
    "Verificando que el servicio este activo"
   ]
  },
  {
   "cell_type": "code",
   "execution_count": 64,
   "metadata": {
    "slideshow": {
     "slide_type": "fragment"
    }
   },
   "outputs": [
    {
     "name": "stdout",
     "output_type": "stream",
     "text": [
      "{\r\n",
      "  \"name\" : \"lasinac\",\r\n",
      "  \"cluster_name\" : \"elasticsearch\",\r\n",
      "  \"cluster_uuid\" : \"f_n46eaUSW2x1p-135n1iw\",\r\n",
      "  \"version\" : {\r\n",
      "    \"number\" : \"7.5.1\",\r\n",
      "    \"build_flavor\" : \"default\",\r\n",
      "    \"build_type\" : \"deb\",\r\n",
      "    \"build_hash\" : \"3ae9ac9a93c95bd0cdc054951cf95d88e1e18d96\",\r\n",
      "    \"build_date\" : \"2019-12-16T22:57:37.835892Z\",\r\n",
      "    \"build_snapshot\" : false,\r\n",
      "    \"lucene_version\" : \"8.3.0\",\r\n",
      "    \"minimum_wire_compatibility_version\" : \"6.8.0\",\r\n",
      "    \"minimum_index_compatibility_version\" : \"6.0.0-beta1\"\r\n",
      "  },\r\n",
      "  \"tagline\" : \"You Know, for Search\"\r\n",
      "}\r\n"
     ]
    }
   ],
   "source": [
    "!curl -X GET \"localhost:9200/\""
   ]
  },
  {
   "cell_type": "code",
   "execution_count": 65,
   "metadata": {
    "slideshow": {
     "slide_type": "subslide"
    }
   },
   "outputs": [
    {
     "name": "stdout",
     "output_type": "stream",
     "text": [
      "epoch      timestamp cluster       status node.total node.data shards pri relo init unassign pending_tasks max_task_wait_time active_shards_percent\r\n",
      "1578669031 15:10:31  elasticsearch green           1         1      0   0    0    0        0             0                  -                100.0%\r\n"
     ]
    }
   ],
   "source": [
    "!curl -X GET \"localhost:9200/_cat/health?v\""
   ]
  },
  {
   "cell_type": "code",
   "execution_count": 92,
   "metadata": {
    "slideshow": {
     "slide_type": "fragment"
    }
   },
   "outputs": [
    {
     "name": "stdout",
     "output_type": "stream",
     "text": [
      "health status index uuid                   pri rep docs.count docs.deleted store.size pri.store.size\r\n",
      "yellow open   slr   E_AVV-6ETeG0RDUmANjXdQ   1   1          1            0     14.2kb         14.2kb\r\n"
     ]
    }
   ],
   "source": [
    "!curl -X GET localhost:9200/_cat/indices?v "
   ]
  },
  {
   "cell_type": "code",
   "execution_count": 72,
   "metadata": {
    "slideshow": {
     "slide_type": "fragment"
    }
   },
   "outputs": [
    {
     "name": "stdout",
     "output_type": "stream",
     "text": [
      "{\"took\":0,\"timed_out\":false,\"_shards\":{\"total\":0,\"successful\":0,\"skipped\":0,\"failed\":0},\"hits\":{\"total\":{\"value\":0,\"relation\":\"eq\"},\"max_score\":0.0,\"hits\":[]}}"
     ]
    }
   ],
   "source": [
    "!curl -X GET \"localhost:9200/_search\""
   ]
  },
  {
   "cell_type": "markdown",
   "metadata": {
    "slideshow": {
     "slide_type": "subslide"
    }
   },
   "source": [
    "### Configurando Elasticsearch\n",
    "\n",
    "* Elasticsearch data se guarda en: /var/lib/elasticsearch \n",
    "* Archivo de configuraciòn en: /etc/elasticsearch \n",
    "* Opciones adicionales de inicio de java configurables desde archivo: /etc/default/elasticsearch file."
   ]
  },
  {
   "cell_type": "markdown",
   "metadata": {
    "slideshow": {
     "slide_type": "slide"
    }
   },
   "source": [
    "## Conceptos Básicos"
   ]
  },
  {
   "cell_type": "markdown",
   "metadata": {
    "slideshow": {
     "slide_type": "fragment"
    }
   },
   "source": [
    "* __Documento:__ Unidad básica de informacón indexable, recuperable. (**json**)\n",
    "* __Índice:__ Conjunto de documentos con características similares. \n",
    "* __Nodo:__ Instancia de Elastic Search; Almacena todos los documentos.\n",
    "* __Cluster:__ Conjunto de uno o más nodos. Pueden existir diferentes índices dentro de un clúster.\n",
    "* __Shard:__ Fragmento de un índice que contiene parte de los documentos.\n",
    "* __Réplica:__ Copia de un shard primario\n",
    "* __Settings:__ Configuración del índice: # de réplicas, # de shards a nivel de cluster. Diferentes indices pueden tener diferentes valores, mientras que todos los nodos del cluster tendrán los mismos valores.\n",
    "* __Mappings:__ Modelo de datos de un índice. Campos y Tipos de dato."
   ]
  },
  {
   "cell_type": "markdown",
   "metadata": {
    "slideshow": {
     "slide_type": "subslide"
    }
   },
   "source": [
    "### Concepto de Indexación Inversa\n",
    "<img src=\"images/inverse_indexing.png\">"
   ]
  },
  {
   "cell_type": "markdown",
   "metadata": {
    "slideshow": {
     "slide_type": "slide"
    }
   },
   "source": [
    "### Indexando un documento json"
   ]
  },
  {
   "cell_type": "code",
   "execution_count": 102,
   "metadata": {
    "slideshow": {
     "slide_type": "fragment"
    }
   },
   "outputs": [
    {
     "name": "stdout",
     "output_type": "stream",
     "text": [
      "{\"acknowledged\":true}"
     ]
    }
   ],
   "source": [
    "!curl -XDELETE localhost:9200/*"
   ]
  },
  {
   "cell_type": "code",
   "execution_count": 103,
   "metadata": {
    "slideshow": {
     "slide_type": "fragment"
    }
   },
   "outputs": [
    {
     "name": "stdout",
     "output_type": "stream",
     "text": [
      "{\"_index\":\"slr\",\"_type\":\"books\",\"_id\":\"1\",\"_version\":1,\"result\":\"created\",\"_shards\":{\"total\":2,\"successful\":1,\"failed\":0},\"_seq_no\":0,\"_primary_term\":1}"
     ]
    }
   ],
   "source": [
    "!curl -XPUT http://localhost:9200/slr/books/1 \\\n",
    "        -H 'Content-Type: application/json'\\\n",
    "        -d '{\"author\": \"Cohen, Paul R\", \"publisher\": \"MIT press Cambridge, MA\", \"title\": \"Empirical methods for artificial intelligence\", \"volume\": 139, \"year\": 1995}'"
   ]
  },
  {
   "cell_type": "code",
   "execution_count": 106,
   "metadata": {
    "slideshow": {
     "slide_type": "fragment"
    }
   },
   "outputs": [
    {
     "name": "stdout",
     "output_type": "stream",
     "text": [
      "{\"_index\":\"slr\",\"_type\":\"books\",\"_id\":\"2\",\"_version\":1,\"result\":\"created\",\"_shards\":{\"total\":2,\"successful\":1,\"failed\":0},\"_seq_no\":1,\"_primary_term\":1}"
     ]
    }
   ],
   "source": [
    "!curl -XPUT http://localhost:9200/slr/books/2 \\\n",
    "        -H 'Content-Type: application/json' \\\n",
    "        -d '{\"title\": \"hello world\", \"content\":\"world at war\", \"tags\":[\"one\", \"two\", \"three\"]}'"
   ]
  },
  {
   "cell_type": "markdown",
   "metadata": {
    "slideshow": {
     "slide_type": "fragment"
    }
   },
   "source": [
    "Creación automática de identificador"
   ]
  },
  {
   "cell_type": "code",
   "execution_count": 109,
   "metadata": {
    "slideshow": {
     "slide_type": "fragment"
    }
   },
   "outputs": [
    {
     "name": "stdout",
     "output_type": "stream",
     "text": [
      "{\"_index\":\"slr\",\"_type\":\"books\",\"_id\":\"haAPkG8BngSePPhFJPyW\",\"_version\":1,\"result\":\"created\",\"_shards\":{\"total\":2,\"successful\":1,\"failed\":0},\"_seq_no\":2,\"_primary_term\":1}"
     ]
    }
   ],
   "source": [
    "!curl -XPOST http://localhost:9200/slr/books \\\n",
    "        -H 'Content-Type: application/json' \\\n",
    "        -d @elastic_search_books.json"
   ]
  },
  {
   "cell_type": "markdown",
   "metadata": {
    "slideshow": {
     "slide_type": "subslide"
    }
   },
   "source": [
    "### Recuperando Documentos"
   ]
  },
  {
   "cell_type": "code",
   "execution_count": 110,
   "metadata": {
    "slideshow": {
     "slide_type": "fragment"
    }
   },
   "outputs": [
    {
     "name": "stdout",
     "output_type": "stream",
     "text": [
      "{\"took\":1,\"timed_out\":false,\"_shards\":{\"total\":1,\"successful\":1,\"skipped\":0,\"failed\":0},\"hits\":{\"total\":{\"value\":3,\"relation\":\"eq\"},\"max_score\":1.0,\"hits\":[{\"_index\":\"slr\",\"_type\":\"books\",\"_id\":\"1\",\"_score\":1.0,\"_source\":{\"author\": \"Cohen, Paul R\", \"publisher\": \"MIT press Cambridge, MA\", \"title\": \"Empirical methods for artificial intelligence\", \"volume\": 139, \"year\": 1995}},{\"_index\":\"slr\",\"_type\":\"books\",\"_id\":\"2\",\"_score\":1.0,\"_source\":{\"title\": \"hello world\", \"content\":\"world at war\", \"tags\":[\"one\", \"two\", \"three\"]}},{\"_index\":\"slr\",\"_type\":\"books\",\"_id\":\"haAPkG8BngSePPhFJPyW\",\"_score\":1.0,\"_source\":{\t\"book1525739\": {\t\t\"title\": \"Elasticsearch Indexing: Improve search experiences with ElasticSearch’s powerful indexing functionality – learn how with this practical ElasticSearch tutorial, packed with tips!\",\t\t\"author\": \"Huseyin Akdogan\",\t\t\"publisher\": \"Packt Publishing\",\t\t\"isbn\": \"978-1-78398-702-3\",\t\t\"year\": \"2015\",\t\t\"series\": \"\",\t\t\"edition\": \"\",\t\t\"volume\": \"\"\t},\t\"book1525753\": {\t\t\"title\": \"Elasticsearch Server, 2nd Edition: A practical guide to building fast, scalable, and flexible search solutions with clear and easy-to-understand examples\",\t\t\"author\": \"Marek Rogozinski, Rafal Kuc\",\t\t\"publisher\": \"Packt Publishing\",\t\t\"isbn\": \"978-1-78398-052-9\",\t\t\"year\": \"2014\",\t\t\"series\": \"\",\t\t\"edition\": \"\",\t\t\"volume\": \"\"\t}}}]}}"
     ]
    }
   ],
   "source": [
    "!curl -XGET http://localhost:9200/_search"
   ]
  },
  {
   "cell_type": "code",
   "execution_count": 112,
   "metadata": {
    "slideshow": {
     "slide_type": "fragment"
    }
   },
   "outputs": [
    {
     "name": "stdout",
     "output_type": "stream",
     "text": [
      "{\"_index\":\"slr\",\"_type\":\"books\",\"_id\":\"1\",\"_version\":1,\"_seq_no\":0,\"_primary_term\":1,\"found\":true,\"_source\":{\"author\": \"Cohen, Paul R\", \"publisher\": \"MIT press Cambridge, MA\", \"title\": \"Empirical methods for artificial intelligence\", \"volume\": 139, \"year\": 1995}}"
     ]
    }
   ],
   "source": [
    "!curl -XGET http://localhost:9200/slr/books/1"
   ]
  },
  {
   "cell_type": "code",
   "execution_count": 113,
   "metadata": {
    "slideshow": {
     "slide_type": "fragment"
    }
   },
   "outputs": [
    {
     "name": "stdout",
     "output_type": "stream",
     "text": [
      "{\"_index\":\"slr\",\"_type\":\"books\",\"_id\":\"haAPkG8BngSePPhFJPyW\",\"_version\":1,\"_seq_no\":2,\"_primary_term\":1,\"found\":true,\"_source\":{\t\"book1525739\": {\t\t\"title\": \"Elasticsearch Indexing: Improve search experiences with ElasticSearch’s powerful indexing functionality – learn how with this practical ElasticSearch tutorial, packed with tips!\",\t\t\"author\": \"Huseyin Akdogan\",\t\t\"publisher\": \"Packt Publishing\",\t\t\"isbn\": \"978-1-78398-702-3\",\t\t\"year\": \"2015\",\t\t\"series\": \"\",\t\t\"edition\": \"\",\t\t\"volume\": \"\"\t},\t\"book1525753\": {\t\t\"title\": \"Elasticsearch Server, 2nd Edition: A practical guide to building fast, scalable, and flexible search solutions with clear and easy-to-understand examples\",\t\t\"author\": \"Marek Rogozinski, Rafal Kuc\",\t\t\"publisher\": \"Packt Publishing\",\t\t\"isbn\": \"978-1-78398-052-9\",\t\t\"year\": \"2014\",\t\t\"series\": \"\",\t\t\"edition\": \"\",\t\t\"volume\": \"\"\t}}}"
     ]
    }
   ],
   "source": [
    "!curl -XGET http://localhost:9200/slr/books/haAPkG8BngSePPhFJPyW"
   ]
  },
  {
   "cell_type": "markdown",
   "metadata": {
    "slideshow": {
     "slide_type": "slide"
    }
   },
   "source": [
    "### Shards and Replicas\n",
    "\n",
    "* Un indice esta compuesto de una o mas **shards**.\n",
    "* Cada **shard** contiene parte del conjunto de docuemntos\n",
    "* Cada **shard** puede tener **replicas**\n",
    "* Valores globales están definidos en el archivo elasticsearch.yml: 5 shards, 1 replica"
   ]
  },
  {
   "cell_type": "markdown",
   "metadata": {
    "slideshow": {
     "slide_type": "subslide"
    }
   },
   "source": [
    "### Shards y Replicas\n",
    "* Más shards permiten extender los índices a mas servidores (i.e. manejar más documentos)\n",
    "* Más shards implica menos recursos para buscar (_fetch_) un documento particular\n",
    "* Más shards implica problemas al buscar entre índices: fase de agregación \n",
    "* Más réplicas implica mayor tolerancia a fallas\n",
    "* Más réplicas implica mayor rendimiento de la consulta."
   ]
  },
  {
   "cell_type": "markdown",
   "metadata": {
    "slideshow": {
     "slide_type": "notes"
    }
   },
   "source": [
    "Las réplicas permiten una tolerancia a fallas ya que si el shard no es encontrado o no existe la copia se puede utilizar, de ahi que a mas copias se puede garantizar que no haya perdida datos"
   ]
  },
  {
   "cell_type": "markdown",
   "metadata": {
    "slideshow": {
     "slide_type": "slide"
    }
   },
   "source": [
    "### Creando un índice\n",
    "Crear un indice de nombre **repo_tesis** con parámetros por defecto\n"
   ]
  },
  {
   "cell_type": "code",
   "execution_count": 115,
   "metadata": {
    "slideshow": {
     "slide_type": "fragment"
    }
   },
   "outputs": [
    {
     "name": "stdout",
     "output_type": "stream",
     "text": [
      "{\"acknowledged\":true,\"shards_acknowledged\":true,\"index\":\"repo_tesis\"}"
     ]
    }
   ],
   "source": [
    "!curl -XPUT http://localhost:9200/repo_tesis/"
   ]
  },
  {
   "cell_type": "markdown",
   "metadata": {
    "slideshow": {
     "slide_type": "subslide"
    }
   },
   "source": [
    "### Alterando archivo de configuracion yml\n",
    "A veces la creación automática de índices no es adecuada: un typo en un nombre de índice puede destruir horas de procesamiento de script. Para controlar esta situación se puede desactivar o puntualizar el comportamineto de la creación de índices por elastic search editando el archivo **elasticsearch.yml**."
   ]
  },
  {
   "cell_type": "markdown",
   "metadata": {
    "slideshow": {
     "slide_type": "fragment"
    }
   },
   "source": [
    "Desactivar indexación automática:\n",
    "\n",
    "    action.auto_create_index: false\n",
    "\n",
    "Permitir indexación automática para índices que inician con la letra **a**, desactivarla para **an**, y que cualquier otro indice sea creado manualmente (-*). Observar el orden.\n",
    "\n",
    "    action.auto_creat_index: -an*, +a*, -*\n",
    "    \n",
    "Para acceder:\n",
    "\n",
    "    sudo -i\n",
    "    nano /etc/elasticsearch/elasticsearch.yml"
   ]
  },
  {
   "cell_type": "markdown",
   "metadata": {
    "slideshow": {
     "slide_type": "subslide"
    }
   },
   "source": [
    "### Configurando Manualmente un índice:\n",
    "\n",
    "Permite configurar de manera manual el número de shards y réplicas."
   ]
  },
  {
   "cell_type": "code",
   "execution_count": 127,
   "metadata": {
    "slideshow": {
     "slide_type": "fragment"
    }
   },
   "outputs": [
    {
     "name": "stdout",
     "output_type": "stream",
     "text": [
      "{\"acknowledged\":true,\"shards_acknowledged\":true,\"index\":\"repo_tesis_2\"}"
     ]
    }
   ],
   "source": [
    "!curl -XPUT http://localhost:9200/repo_tesis_2/ -d '{\"settings\":{\"number_of_shards\":1, \"number_of_replicas\": 2}}' \\\n",
    "                                                -H 'Content-Type: application/json'"
   ]
  },
  {
   "cell_type": "markdown",
   "metadata": {
    "slideshow": {
     "slide_type": "fragment"
    }
   },
   "source": [
    "# ¡Falta la estructura o mapeo de los datos!\n",
    "\n",
    "Dado que no se ha proveido del mapping, es necesario eliminar el indice antes creado para configurar\n"
   ]
  },
  {
   "cell_type": "markdown",
   "metadata": {
    "slideshow": {
     "slide_type": "slide"
    }
   },
   "source": [
    "### Mapping Data"
   ]
  }
 ],
 "metadata": {
  "celltoolbar": "Slideshow",
  "kernelspec": {
   "display_name": "Python 3",
   "language": "python",
   "name": "python3"
  },
  "language_info": {
   "codemirror_mode": {
    "name": "ipython",
    "version": 3
   },
   "file_extension": ".py",
   "mimetype": "text/x-python",
   "name": "python",
   "nbconvert_exporter": "python",
   "pygments_lexer": "ipython3",
   "version": "3.6.4"
  }
 },
 "nbformat": 4,
 "nbformat_minor": 2
}
